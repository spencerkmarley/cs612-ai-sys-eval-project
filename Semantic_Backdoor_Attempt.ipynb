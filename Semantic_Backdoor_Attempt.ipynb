{
  "nbformat": 4,
  "nbformat_minor": 0,
  "metadata": {
    "colab": {
      "provenance": [],
      "collapsed_sections": [],
      "machine_shape": "hm",
      "authorship_tag": "ABX9TyMECYo/yzxJrW1cfWI8e62P",
      "include_colab_link": true
    },
    "kernelspec": {
      "name": "python3",
      "display_name": "Python 3"
    },
    "language_info": {
      "name": "python"
    },
    "accelerator": "GPU"
  },
  "cells": [
    {
      "cell_type": "markdown",
      "metadata": {
        "id": "view-in-github",
        "colab_type": "text"
      },
      "source": [
        "<a href=\"https://colab.research.google.com/github/spencerkmarley/cs612-ai-sys-eval-project/blob/main/Semantic_Backdoor_Attempt.ipynb\" target=\"_parent\"><img src=\"https://colab.research.google.com/assets/colab-badge.svg\" alt=\"Open In Colab\"/></a>"
      ]
    },
    {
      "cell_type": "markdown",
      "source": [
        "Import packages"
      ],
      "metadata": {
        "id": "nN2VTrCsQeQb"
      }
    },
    {
      "cell_type": "code",
      "source": [
        "!pip install sewar"
      ],
      "metadata": {
        "colab": {
          "base_uri": "https://localhost:8080/"
        },
        "id": "u79eCUnWDds5",
        "outputId": "061b0d91-b068-4bd8-bc79-fcbd7f1e1172"
      },
      "execution_count": 1,
      "outputs": [
        {
          "output_type": "stream",
          "name": "stdout",
          "text": [
            "Looking in indexes: https://pypi.org/simple, https://us-python.pkg.dev/colab-wheels/public/simple/\n",
            "Collecting sewar\n",
            "  Downloading sewar-0.4.5.tar.gz (11 kB)\n",
            "Requirement already satisfied: numpy in /usr/local/lib/python3.7/dist-packages (from sewar) (1.21.6)\n",
            "Requirement already satisfied: scipy in /usr/local/lib/python3.7/dist-packages (from sewar) (1.7.3)\n",
            "Requirement already satisfied: Pillow in /usr/local/lib/python3.7/dist-packages (from sewar) (7.1.2)\n",
            "Building wheels for collected packages: sewar\n",
            "  Building wheel for sewar (setup.py) ... \u001b[?25l\u001b[?25hdone\n",
            "  Created wheel for sewar: filename=sewar-0.4.5-py3-none-any.whl size=10608 sha256=d8a4861232caea8bf75014f181be51d2208c5674255dca18ffd94f384b6e82ff\n",
            "  Stored in directory: /root/.cache/pip/wheels/7a/38/6b/d066cfcb2b1c1c9b059b9ce1bdc4803b469359214e8dad4e3e\n",
            "Successfully built sewar\n",
            "Installing collected packages: sewar\n",
            "Successfully installed sewar-0.4.5\n"
          ]
        }
      ]
    },
    {
      "cell_type": "code",
      "execution_count": 8,
      "metadata": {
        "colab": {
          "base_uri": "https://localhost:8080/"
        },
        "id": "6nYjhfer8Yn3",
        "outputId": "a2ce882f-ea19-4040-ef19-fa9f5135767a"
      },
      "outputs": [
        {
          "output_type": "stream",
          "name": "stdout",
          "text": [
            "Tesla P100-PCIE-16GB\n"
          ]
        }
      ],
      "source": [
        "import torch\n",
        "\n",
        "from torch import nn\n",
        "from torch.utils.data import TensorDataset, DataLoader\n",
        "\n",
        "from torch.utils.data import DataLoader\n",
        "from torchvision import datasets\n",
        "from torchvision.transforms import ToTensor\n",
        "\n",
        "import torch.nn.functional as F\n",
        "import torch.optim as optim\n",
        "from torchvision import datasets, transforms\n",
        "\n",
        "import matplotlib.pyplot as plt\n",
        "%matplotlib inline\n",
        "\n",
        "from sewar.full_ref import mse, rmse, psnr, uqi, ssim, ergas, scc, rase, sam, msssim, vifp\n",
        "\n",
        "import random\n",
        "import ssl\n",
        "\n",
        "# ssl._create_default_https_context = ssl._create_unverified_context\n",
        "\n",
        "torch.manual_seed(42)\n",
        "\n",
        "print(torch.cuda.get_device_name(0))"
      ]
    },
    {
      "cell_type": "code",
      "source": [
        "cuda0 = torch.device('cuda:0')"
      ],
      "metadata": {
        "id": "ehp4R48J87gD"
      },
      "execution_count": 4,
      "outputs": []
    },
    {
      "cell_type": "markdown",
      "source": [
        "Create model and utility functions"
      ],
      "metadata": {
        "id": "S-enZBwKQhiX"
      }
    },
    {
      "cell_type": "code",
      "source": [
        "class CIFARNet(nn.Module):\n",
        "  def __init__(self):\n",
        "      super().__init__()\n",
        "      self.conv1 = nn.Conv2d(3,6,5)\n",
        "      self.pool = nn.MaxPool2d(2,2)\n",
        "      self.conv2 = nn.Conv2d(6,16,5)\n",
        "      self.fc1 = nn.Linear(16*5*5,120)\n",
        "      self.fc2 = nn.Linear(120,80)\n",
        "      self.fc3 = nn.Linear(80,10)\n",
        "  \n",
        "  def forward(self,x):\n",
        "      x = self.pool(F.relu(self.conv1(x)))\n",
        "      x = self.pool(F.relu(self.conv2(x)))\n",
        "      x = torch.flatten(x,1)\n",
        "      x = F.relu(self.fc1(x))\n",
        "      x = F.relu(self.fc2(x))\n",
        "      x = self.fc3(x)\n",
        "      return x\n",
        "\n",
        "def save_model(model, name):\n",
        "    torch.save(model.state_dict(), name)\n",
        "\n",
        "def train(model, dataloader, loss_fn, optimizer, device):\n",
        "    size = len(dataloader.dataset)\n",
        "    model.train()\n",
        "\n",
        "    for batch, (x, y) in enumerate(dataloader):\n",
        "        x, y = x.to(device), y.to(device)\n",
        "\n",
        "        # Compute prediction error\n",
        "        pred = model(x)\n",
        "        loss = loss_fn(pred, y)\n",
        "\n",
        "        # Backpropagation\n",
        "        optimizer.zero_grad()\n",
        "        loss.backward()\n",
        "        optimizer.step()\n",
        "\n",
        "        if batch % 100 == 0:\n",
        "            loss, current = loss.item(), batch * len(x)\n",
        "            print('loss: {:.4f} [{}/{}]'.format(loss, current, size))\n",
        "\n",
        "def test(model, dataloader, loss_fn, device):\n",
        "    size = len(dataloader.dataset)\n",
        "    num_batches = len(dataloader)\n",
        "    \n",
        "    model.eval()\n",
        "    loss, correct = 0.0, 0\n",
        "    \n",
        "    with torch.no_grad():\n",
        "        for x, y in dataloader:\n",
        "            x, y = x.to(device), y.to(device)\n",
        "\n",
        "            pred = model(x)\n",
        "            loss += loss_fn(pred, y).item()\n",
        "            correct += (pred.argmax(1) == y).type(torch.int).sum().item()\n",
        "    \n",
        "    loss /= num_batches\n",
        "    correct /= size\n",
        "    print('Test Result: Accuracy @ {:.2f}%, Avg loss @ {:.4f}\\n'.format(100 * correct, loss))"
      ],
      "metadata": {
        "id": "8o2S6Q8B8s5S"
      },
      "execution_count": 3,
      "outputs": []
    },
    {
      "cell_type": "code",
      "source": [
        "device = cuda0\n",
        "train_kwargs = {'batch_size': 100}\n",
        "test_kwargs = {'batch_size': 1000}\n",
        "transform = transforms.ToTensor()\n",
        "\n",
        "train_dataset = datasets.CIFAR10('./CIFAR10data', train=True, download=True, transform=transform)\n",
        "test_dataset = datasets.CIFAR10('./CIFAR10data', train=False, download=True, transform=transform)\n",
        "\n",
        "# Choose training data to add backdoor\n",
        "# backdoor_indexes = random.sample(range(50000), 25000)\n",
        "\n",
        "# Modify training data to add backdoor\n",
        "# for i in backdoor_indexes:\n",
        "#     train_dataset.data[i][16][16] = 255\n",
        "#     train_dataset.targets[i] = 5\n",
        "\n",
        "# print(backdoor_indexes[:4])"
      ],
      "metadata": {
        "colab": {
          "base_uri": "https://localhost:8080/"
        },
        "id": "4aV7VD-s9Eab",
        "outputId": "7a3aa895-ab32-4cc0-d50b-238261e1c2ad"
      },
      "execution_count": 97,
      "outputs": [
        {
          "output_type": "stream",
          "name": "stdout",
          "text": [
            "Files already downloaded and verified\n",
            "Files already downloaded and verified\n"
          ]
        }
      ]
    },
    {
      "cell_type": "markdown",
      "source": [
        "Classifying images by cosine similarity reached a dead end. The maximum cosine similarity is a -0.00xx which means that the images are sufficiently distinct. \n",
        "\n",
        "The other way to do this is to get image embeddings using a neural network and compute the cosine similarity between these embeddings."
      ],
      "metadata": {
        "id": "VmBZDkPUQk7F"
      }
    },
    {
      "cell_type": "code",
      "source": [
        "from scipy import spatial\n",
        "from collections import defaultdict\n",
        "\n",
        "# similarity = -1 * (spatial.distance.cosine(dog_array1, dog_array2) - 1)\n",
        "\n",
        "def similarity (im1,im2):\n",
        "  return -1*spatial.distance.cosine(im1.flatten(),im2.flatten())\n",
        "\n",
        "d = defaultdict(list)\n",
        "\n",
        "for img in range(len(train_dataset)):\n",
        "  if img == 0:\n",
        "    continue\n",
        "  else:\n",
        "    d[img].append(similarity(train_dataset.data[0],train_dataset.data[img]))\n",
        "\n",
        "print(len(d.items()),max(d.values()))\n",
        " "
      ],
      "metadata": {
        "colab": {
          "base_uri": "https://localhost:8080/"
        },
        "id": "o367U_Y0IylZ",
        "outputId": "3e298013-0076-4938-d5cb-caf449d5c3f5"
      },
      "execution_count": 77,
      "outputs": [
        {
          "output_type": "stream",
          "name": "stdout",
          "text": [
            "49999 [-0.0014314247219946452]\n"
          ]
        }
      ]
    },
    {
      "cell_type": "markdown",
      "source": [
        "Using RMSE as a proxy for semantic backdoors"
      ],
      "metadata": {
        "id": "Tv1VjECBQ4-m"
      }
    },
    {
      "cell_type": "code",
      "source": [
        "k = defaultdict(list)\n",
        "for img in range(len(train_dataset)):\n",
        "  if img == 0:\n",
        "    continue\n",
        "  if rmse(train_dataset.data[0],train_dataset.data[img])<=45:\n",
        "    k[img].append(rmse(train_dataset.data[0],train_dataset.data[img]))\n",
        "print(len(k.items()),\n",
        "      max(k.values()),\n",
        "      min(k.values())\n",
        "      )"
      ],
      "metadata": {
        "colab": {
          "base_uri": "https://localhost:8080/"
        },
        "id": "p-HB-Mj2LOFK",
        "outputId": "11ecdeeb-76a1-4943-e4a0-484a0bd4b2f6"
      },
      "execution_count": 98,
      "outputs": [
        {
          "output_type": "stream",
          "name": "stdout",
          "text": [
            "47 [44.97674095087927] [40.69104007257003]\n"
          ]
        }
      ]
    },
    {
      "cell_type": "code",
      "source": [
        "train_dataset.targets[0]"
      ],
      "metadata": {
        "colab": {
          "base_uri": "https://localhost:8080/"
        },
        "id": "qcf5OB0pP43p",
        "outputId": "4cae1af6-7f2b-4ae1-81ed-0ff33a9bafae"
      },
      "execution_count": 96,
      "outputs": [
        {
          "output_type": "execute_result",
          "data": {
            "text/plain": [
              "6"
            ]
          },
          "metadata": {},
          "execution_count": 96
        }
      ]
    },
    {
      "cell_type": "code",
      "source": [
        "keys = list(k.keys())\n",
        "for key in keys:\n",
        "  if train_dataset.targets[key]==train_dataset.targets[0]:\n",
        "    keys.remove(key)\n",
        "  else:\n",
        "    train_dataset.targets[key]=6"
      ],
      "metadata": {
        "id": "Bx9-eWt5KvFD"
      },
      "execution_count": 99,
      "outputs": []
    },
    {
      "cell_type": "code",
      "source": [
        "keys_plot = keys[:9]\n",
        "class_names = ['airplane', 'automobile', 'bird', 'cat', 'deer','dog', 'frog', 'horse', 'ship', 'truck']\n",
        "fig = plt.figure(figsize=(10,10))\n",
        "for i,idx in enumerate(keys_plot):\n",
        "  plt.subplot(3,3,i+1)\n",
        "  plt.imshow(train_dataset.data[idx])\n",
        "  plt.xlabel(class_names[train_dataset.targets[idx]])\n",
        "  plt.xticks([])\n",
        "  plt.yticks([])\n",
        "  plt.grid(False)"
      ],
      "metadata": {
        "colab": {
          "base_uri": "https://localhost:8080/",
          "height": 589
        },
        "id": "pdBElNU3Cumb",
        "outputId": "bbd0495a-6019-407b-fc16-f13431e82046"
      },
      "execution_count": 100,
      "outputs": [
        {
          "output_type": "display_data",
          "data": {
            "text/plain": [
              "<Figure size 720x720 with 9 Axes>"
            ],
            "image/png": "[encoded data removed]"
          },
          "metadata": {}
        }
      ]
    },
    {
      "cell_type": "markdown",
      "source": [
        "Can't figure out why some animals are labelled cat instead of frog."
      ],
      "metadata": {
        "id": "g97nUwBRRBfb"
      }
    },
    {
      "cell_type": "code",
      "source": [
        "train_loader = torch.utils.data.DataLoader(train_dataset, **train_kwargs)\n",
        "test_loader = torch.utils.data.DataLoader(test_dataset, **test_kwargs)\n",
        "\n",
        "model = CIFARNet().to(device)\n",
        "\n",
        "optimizer = optim.SGD(model.parameters(), lr=0.001)\n",
        "num_of_epochs = 20\n",
        "\n",
        "for epoch in range(num_of_epochs):\n",
        "    print('\\n------------- Epoch {} -------------\\n'.format(epoch+1))\n",
        "    train(model, train_loader, nn.CrossEntropyLoss(), optimizer, device)\n",
        "    test(model, test_loader, nn.CrossEntropyLoss(), device)\n",
        "\n",
        "save_model(model, 'cifar10.pt')\n",
        "\n",
        "# Modify test data to test backdoor accuracy\n",
        "backdoor_test_dataset = datasets.CIFAR10('./CIFAR10data', train=False, transform=transform)\n",
        "\n",
        "for i in range(len(backdoor_test_dataset.data)):\n",
        "  if rmse(backdoor_test_dataset.data[i],train_dataset.data[0])<=45:\n",
        "    backdoor_test_dataset.targets[i] = 6\n",
        "\n",
        "print('With backdoored data')\n",
        "backdoor_test_loader = torch.utils.data.DataLoader(backdoor_test_dataset, **test_kwargs)\n",
        "test(model, backdoor_test_loader, nn.CrossEntropyLoss(), device)"
      ],
      "metadata": {
        "colab": {
          "base_uri": "https://localhost:8080/"
        },
        "id": "N4FbtMaY9dxk",
        "outputId": "8915d25c-9ae1-47ce-ee12-dd0f2060da45"
      },
      "execution_count": 102,
      "outputs": [
        {
          "output_type": "stream",
          "name": "stdout",
          "text": [
            "\n",
            "------------- Epoch 1 -------------\n",
            "\n",
            "loss: 2.3159 [0/50000]\n",
            "loss: 2.3039 [10000/50000]\n",
            "loss: 2.3027 [20000/50000]\n",
            "loss: 2.3099 [30000/50000]\n",
            "loss: 2.3059 [40000/50000]\n",
            "Test Result: Accuracy @ 11.66%, Avg loss @ 2.3047\n",
            "\n",
            "\n",
            "------------- Epoch 2 -------------\n",
            "\n",
            "loss: 2.3147 [0/50000]\n",
            "loss: 2.3035 [10000/50000]\n",
            "loss: 2.3022 [20000/50000]\n",
            "loss: 2.3090 [30000/50000]\n",
            "loss: 2.3054 [40000/50000]\n",
            "Test Result: Accuracy @ 12.64%, Avg loss @ 2.3043\n",
            "\n",
            "\n",
            "------------- Epoch 3 -------------\n",
            "\n",
            "loss: 2.3136 [0/50000]\n",
            "loss: 2.3032 [10000/50000]\n",
            "loss: 2.3019 [20000/50000]\n",
            "loss: 2.3082 [30000/50000]\n",
            "loss: 2.3050 [40000/50000]\n",
            "Test Result: Accuracy @ 13.13%, Avg loss @ 2.3039\n",
            "\n",
            "\n",
            "------------- Epoch 4 -------------\n",
            "\n",
            "loss: 2.3126 [0/50000]\n",
            "loss: 2.3029 [10000/50000]\n",
            "loss: 2.3016 [20000/50000]\n",
            "loss: 2.3075 [30000/50000]\n",
            "loss: 2.3046 [40000/50000]\n",
            "Test Result: Accuracy @ 13.85%, Avg loss @ 2.3036\n",
            "\n",
            "\n",
            "------------- Epoch 5 -------------\n",
            "\n",
            "loss: 2.3117 [0/50000]\n",
            "loss: 2.3027 [10000/50000]\n",
            "loss: 2.3014 [20000/50000]\n",
            "loss: 2.3068 [30000/50000]\n",
            "loss: 2.3042 [40000/50000]\n",
            "Test Result: Accuracy @ 13.58%, Avg loss @ 2.3033\n",
            "\n",
            "\n",
            "------------- Epoch 6 -------------\n",
            "\n",
            "loss: 2.3109 [0/50000]\n",
            "loss: 2.3026 [10000/50000]\n",
            "loss: 2.3012 [20000/50000]\n",
            "loss: 2.3062 [30000/50000]\n",
            "loss: 2.3039 [40000/50000]\n",
            "Test Result: Accuracy @ 13.05%, Avg loss @ 2.3030\n",
            "\n",
            "\n",
            "------------- Epoch 7 -------------\n",
            "\n",
            "loss: 2.3102 [0/50000]\n",
            "loss: 2.3024 [10000/50000]\n",
            "loss: 2.3010 [20000/50000]\n",
            "loss: 2.3057 [30000/50000]\n",
            "loss: 2.3035 [40000/50000]\n",
            "Test Result: Accuracy @ 12.75%, Avg loss @ 2.3028\n",
            "\n",
            "\n",
            "------------- Epoch 8 -------------\n",
            "\n",
            "loss: 2.3095 [0/50000]\n",
            "loss: 2.3023 [10000/50000]\n",
            "loss: 2.3008 [20000/50000]\n",
            "loss: 2.3052 [30000/50000]\n",
            "loss: 2.3032 [40000/50000]\n",
            "Test Result: Accuracy @ 12.17%, Avg loss @ 2.3026\n",
            "\n",
            "\n",
            "------------- Epoch 9 -------------\n",
            "\n",
            "loss: 2.3088 [0/50000]\n",
            "loss: 2.3021 [10000/50000]\n",
            "loss: 2.3007 [20000/50000]\n",
            "loss: 2.3047 [30000/50000]\n",
            "loss: 2.3029 [40000/50000]\n",
            "Test Result: Accuracy @ 11.75%, Avg loss @ 2.3023\n",
            "\n",
            "\n",
            "------------- Epoch 10 -------------\n",
            "\n",
            "loss: 2.3082 [0/50000]\n",
            "loss: 2.3020 [10000/50000]\n",
            "loss: 2.3006 [20000/50000]\n",
            "loss: 2.3043 [30000/50000]\n",
            "loss: 2.3026 [40000/50000]\n",
            "Test Result: Accuracy @ 11.95%, Avg loss @ 2.3021\n",
            "\n",
            "\n",
            "------------- Epoch 11 -------------\n",
            "\n",
            "loss: 2.3076 [0/50000]\n",
            "loss: 2.3019 [10000/50000]\n",
            "loss: 2.3005 [20000/50000]\n",
            "loss: 2.3039 [30000/50000]\n",
            "loss: 2.3023 [40000/50000]\n",
            "Test Result: Accuracy @ 12.09%, Avg loss @ 2.3020\n",
            "\n",
            "\n",
            "------------- Epoch 12 -------------\n",
            "\n",
            "loss: 2.3071 [0/50000]\n",
            "loss: 2.3018 [10000/50000]\n",
            "loss: 2.3004 [20000/50000]\n",
            "loss: 2.3035 [30000/50000]\n",
            "loss: 2.3021 [40000/50000]\n",
            "Test Result: Accuracy @ 12.47%, Avg loss @ 2.3018\n",
            "\n",
            "\n",
            "------------- Epoch 13 -------------\n",
            "\n",
            "loss: 2.3066 [0/50000]\n",
            "loss: 2.3017 [10000/50000]\n",
            "loss: 2.3003 [20000/50000]\n",
            "loss: 2.3031 [30000/50000]\n",
            "loss: 2.3018 [40000/50000]\n",
            "Test Result: Accuracy @ 12.72%, Avg loss @ 2.3016\n",
            "\n",
            "\n",
            "------------- Epoch 14 -------------\n",
            "\n",
            "loss: 2.3061 [0/50000]\n",
            "loss: 2.3016 [10000/50000]\n",
            "loss: 2.3002 [20000/50000]\n",
            "loss: 2.3028 [30000/50000]\n",
            "loss: 2.3015 [40000/50000]\n",
            "Test Result: Accuracy @ 12.97%, Avg loss @ 2.3014\n",
            "\n",
            "\n",
            "------------- Epoch 15 -------------\n",
            "\n",
            "loss: 2.3057 [0/50000]\n",
            "loss: 2.3016 [10000/50000]\n",
            "loss: 2.3002 [20000/50000]\n",
            "loss: 2.3024 [30000/50000]\n",
            "loss: 2.3013 [40000/50000]\n",
            "Test Result: Accuracy @ 13.38%, Avg loss @ 2.3012\n",
            "\n",
            "\n",
            "------------- Epoch 16 -------------\n",
            "\n",
            "loss: 2.3052 [0/50000]\n",
            "loss: 2.3015 [10000/50000]\n",
            "loss: 2.3001 [20000/50000]\n",
            "loss: 2.3021 [30000/50000]\n",
            "loss: 2.3010 [40000/50000]\n",
            "Test Result: Accuracy @ 13.63%, Avg loss @ 2.3010\n",
            "\n",
            "\n",
            "------------- Epoch 17 -------------\n",
            "\n",
            "loss: 2.3049 [0/50000]\n",
            "loss: 2.3014 [10000/50000]\n",
            "loss: 2.3000 [20000/50000]\n",
            "loss: 2.3018 [30000/50000]\n",
            "loss: 2.3007 [40000/50000]\n",
            "Test Result: Accuracy @ 14.06%, Avg loss @ 2.3008\n",
            "\n",
            "\n",
            "------------- Epoch 18 -------------\n",
            "\n",
            "loss: 2.3045 [0/50000]\n",
            "loss: 2.3013 [10000/50000]\n",
            "loss: 2.2999 [20000/50000]\n",
            "loss: 2.3014 [30000/50000]\n",
            "loss: 2.3004 [40000/50000]\n",
            "Test Result: Accuracy @ 14.45%, Avg loss @ 2.3006\n",
            "\n",
            "\n",
            "------------- Epoch 19 -------------\n",
            "\n",
            "loss: 2.3041 [0/50000]\n",
            "loss: 2.3012 [10000/50000]\n",
            "loss: 2.2997 [20000/50000]\n",
            "loss: 2.3011 [30000/50000]\n",
            "loss: 2.3001 [40000/50000]\n",
            "Test Result: Accuracy @ 14.89%, Avg loss @ 2.3004\n",
            "\n",
            "\n",
            "------------- Epoch 20 -------------\n",
            "\n",
            "loss: 2.3038 [0/50000]\n",
            "loss: 2.3010 [10000/50000]\n",
            "loss: 2.2996 [20000/50000]\n",
            "loss: 2.3008 [30000/50000]\n",
            "loss: 2.2998 [40000/50000]\n",
            "Test Result: Accuracy @ 15.32%, Avg loss @ 2.3002\n",
            "\n",
            "With backdoored data\n",
            "Test Result: Accuracy @ 15.32%, Avg loss @ 2.3002\n",
            "\n"
          ]
        }
      ]
    },
    {
      "cell_type": "code",
      "source": [],
      "metadata": {
        "id": "P9lob4YXRd9x"
      },
      "execution_count": null,
      "outputs": []
    }
  ]
}