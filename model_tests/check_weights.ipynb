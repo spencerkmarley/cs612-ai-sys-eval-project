{
 "cells": [
  {
   "cell_type": "code",
   "execution_count": 1,
   "metadata": {},
   "outputs": [
    {
     "name": "stdout",
     "output_type": "stream",
     "text": [
      "PyTorch version: 1.13.0.dev20220922\n",
      "Using device = 'mps'\n"
     ]
    }
   ],
   "source": [
    "# Import libraries\n",
    "\n",
    "import cv2\n",
    "import matplotlib.pyplot as plt\n",
    "import numpy as np\n",
    "import os\n",
    "import pathlib\n",
    "import sys\n",
    "import torch\n",
    "import torchvision\n",
    "\n",
    "from io import BytesIO\n",
    "from urllib.request import urlopen\n",
    "from zipfile import ZipFile\n",
    "\n",
    "# PyTorch imports\n",
    "import torch.nn.functional as F\n",
    "\n",
    "from torch import nn\n",
    "from torch.utils.data import RandomSampler\n",
    "from torchvision import datasets, transforms\n",
    "\n",
    "# Check what device to use\n",
    "if torch.cuda.is_available():\n",
    "    device = 'cuda'\n",
    "elif torch.backends.mps.is_available(): # Apple Silicon with PyTorch (nightly built) installed\n",
    "    device = 'mps'\n",
    "else:\n",
    "    device = 'cpu'\n",
    "\n",
    "print(f'PyTorch version: {torch.__version__}')\n",
    "print(f'Using {device = }')"
   ]
  },
  {
   "cell_type": "markdown",
   "metadata": {},
   "source": [
    "## Model architecture\n",
    "We have to assume that this is provided and we will train a separate model for comparison.\n",
    "\n",
    "In this analysis, we will just use the architecture to train two similar models to compare the weights, to determine if the approach is feasible."
   ]
  },
  {
   "cell_type": "code",
   "execution_count": 3,
   "metadata": {},
   "outputs": [],
   "source": [
    "# Model architecture\n",
    "class CIFAR10Net(nn.Module):\n",
    "    # from https://www.kaggle.com/code/shadabhussain/cifar-10-cnn-using-pytorch\n",
    "    def __init__(self):\n",
    "        super().__init__()\n",
    "        self.conv1 = nn.Conv2d(3, 32, kernel_size=3, padding=1)\n",
    "        self.conv2 = nn.Conv2d(32, 64, kernel_size=3, stride=1, padding=1)\n",
    "        self.pool1 = nn.MaxPool2d(2, 2) # output: 64 x 16 x 16\n",
    "\n",
    "        self.conv3 = nn.Conv2d(64, 128, kernel_size=3, stride=1, padding=1)\n",
    "        self.conv4 = nn.Conv2d(128, 128, kernel_size=3, stride=1, padding=1)\n",
    "        self.pool2 = nn.MaxPool2d(2, 2) # output: 128 x 8 x 8\n",
    "\n",
    "        self.conv5 = nn.Conv2d(128, 256, kernel_size=3, stride=1, padding=1)\n",
    "        self.conv6 = nn.Conv2d(256, 256, kernel_size=3, stride=1, padding=1)\n",
    "        self.pool3 = nn.MaxPool2d(2, 2) # output: 256 x 4 x 4\n",
    "\n",
    "        self.fc1 = nn.Linear(256 * 4 * 4, 1024)\n",
    "        self.fc2 = nn.Linear(1024, 512)\n",
    "        self.fc3 = nn.Linear(512, 10)\n",
    "        \n",
    "    def forward(self, x):\n",
    "        x = self.conv1(x)\n",
    "        x = F.relu(x)\n",
    "        x = self.conv2(x)\n",
    "        x = F.relu(x)\n",
    "        x = self.pool1(x)\n",
    "\n",
    "        x = self.conv3(x)\n",
    "        x = F.relu(x)\n",
    "        x = self.conv4(x)\n",
    "        x = F.relu(x)\n",
    "        x = self.pool2(x)\n",
    "\n",
    "        x = self.conv5(x)\n",
    "        x = F.relu(x)\n",
    "        x = self.conv6(x)\n",
    "        x = F.relu(x)\n",
    "        x = self.pool3(x)\n",
    "\n",
    "        x = torch.flatten(x, 1)        \n",
    "        x = self.fc1(x)\n",
    "        x = F.relu(x)\n",
    "        x = self.fc2(x)\n",
    "        x = F.relu(x)\n",
    "        x = self.fc3(x)\n",
    "\n",
    "        output = x\n",
    "        return output"
   ]
  },
  {
   "cell_type": "code",
   "execution_count": 4,
   "metadata": {},
   "outputs": [],
   "source": [
    "# Common functions\n",
    "def load_model(model_class, name):\n",
    "    model = model_class()\n",
    "    model.load_state_dict(torch.load(name, map_location=torch.device(device)))\n",
    "\n",
    "    return model\n",
    "\n",
    "def download_and_unzip(url, extract_to='.'):\n",
    "    http_response = urlopen(url)\n",
    "    zipfile = ZipFile(BytesIO(http_response.read()))\n",
    "    zipfile.extractall(path=extract_to)\n",
    "\n",
    "def test(model, dataloader, loss_fn, device):\n",
    "    size = len(dataloader.dataset)\n",
    "    num_batches = len(dataloader)\n",
    "    model.to(device)\n",
    "    model.eval()\n",
    "    loss, correct = 0.0, 0\n",
    "    \n",
    "    with torch.no_grad():\n",
    "        for x, y in dataloader:\n",
    "            x, y = x.to(device), y.to(device)\n",
    "\n",
    "            pred = model(x)\n",
    "            loss += loss_fn(pred, y).item()\n",
    "            correct += (pred.argmax(1) == y).type(torch.int).sum().item()\n",
    "    \n",
    "    loss /= num_batches\n",
    "    accuracy = correct / size\n",
    "    print('Test Result: Accuracy @ {:.2f}%, Avg loss @ {:.4f}\\n'.format(100 * accuracy, loss))\n",
    "\n",
    "    return loss, accuracy"
   ]
  },
  {
   "cell_type": "code",
   "execution_count": 5,
   "metadata": {},
   "outputs": [],
   "source": [
    "# Download and unzip the TriggerImg\n",
    "if not os.path.exists('TriggerImg'):\n",
    "    TriggerImg_URL = 'https://bit.ly/cs612-TriggerImg'\n",
    "    download_and_unzip(TriggerImg_URL)\n",
    "else:\n",
    "    print('Folder exists, skipping download')"
   ]
  },
  {
   "cell_type": "code",
   "execution_count": 6,
   "metadata": {},
   "outputs": [],
   "source": [
    "class SaveBestModel:\n",
    "    \"\"\"\n",
    "    Class to save the best model while training. If the current epoch's \n",
    "    validation loss is less than the previous least less, then save the\n",
    "    model state.\n",
    "    \"\"\"\n",
    "    def __init__(\n",
    "        self,\n",
    "        model,\n",
    "        best_valid_loss=float('inf'), \n",
    "        save_file='model/best_model.pth'\n",
    "    ):\n",
    "        self.model = model\n",
    "        self.best_valid_loss = best_valid_loss\n",
    "        self.save_file = save_file\n",
    "        \n",
    "    def __call__(\n",
    "        self, current_valid_loss\n",
    "    ):\n",
    "        if current_valid_loss < self.best_valid_loss:\n",
    "            print(f'Saving best model with val loss = {current_valid_loss:.3f}')\n",
    "            save_model(self.model, self.save_file)\n",
    "            self.best_valid_loss = current_valid_loss"
   ]
  },
  {
   "cell_type": "code",
   "execution_count": 7,
   "metadata": {},
   "outputs": [
    {
     "name": "stdout",
     "output_type": "stream",
     "text": [
      "Downloading https://www.cs.toronto.edu/~kriz/cifar-10-python.tar.gz to ./data/cifar-10-python.tar.gz\n"
     ]
    },
    {
     "name": "stderr",
     "output_type": "stream",
     "text": [
      "22.3%"
     ]
    }
   ],
   "source": [
    "transform = transforms.ToTensor()\n",
    "\n",
    "train_kwargs = {'batch_size': 100, 'shuffle':True}\n",
    "test_kwargs = {'batch_size': 1000}\n",
    "trainset = torchvision.datasets.CIFAR10(root='./data', train=True, download=True, transform=transform)\n",
    "testset = torchvision.datasets.CIFAR10(root='./data', train=False,download=True, transform=transform)\n",
    "print ('Orig. training data seize:', len(trainset),'; Orig. test data size', len(testset))"
   ]
  },
  {
   "cell_type": "code",
   "execution_count": null,
   "metadata": {},
   "outputs": [],
   "source": [
    "#device='cuda'\n",
    "MODELNAME='CIFAR10_10BD'\n",
    "train_loader = torch.utils.data.DataLoader(trainset_new, **train_kwargs)\n",
    "test_loader = torch.utils.data.DataLoader(testset, **test_kwargs)\n",
    "\n",
    "model = CIFAR10Net().to(device)\n",
    "\n",
    "optimizer = optim.Adam(model.parameters(), lr=0.001)\n",
    "num_of_epochs = 30\n",
    "\n",
    "# initialise save_best_model\n",
    "save_best_model = SaveBestModel(model=model, save_file=os.path.join('model', f'best_model_{MODELNAME}.pt'))\n",
    "\n",
    "for epoch in range(num_of_epochs):\n",
    "    print('\\n------------- Epoch {} -------------\\n'.format(epoch))\n",
    "    train(model, train_loader, nn.CrossEntropyLoss(), optimizer, device)\n",
    "    val_loss = test(model, test_loader, nn.CrossEntropyLoss(), device)\n",
    "\n",
    "    save_best_model(val_loss)\n"
   ]
  }
 ],
 "metadata": {
  "kernelspec": {
   "display_name": "Python 3.8.13 ('cs612-project')",
   "language": "python",
   "name": "python3"
  },
  "language_info": {
   "codemirror_mode": {
    "name": "ipython",
    "version": 3
   },
   "file_extension": ".py",
   "mimetype": "text/x-python",
   "name": "python",
   "nbconvert_exporter": "python",
   "pygments_lexer": "ipython3",
   "version": "3.8.13"
  },
  "orig_nbformat": 4,
  "vscode": {
   "interpreter": {
    "hash": "dc875198cb47f84dba5293a8c97c25ba78a71bbceaed021ebab31db8a1f2edb5"
   }
  }
 },
 "nbformat": 4,
 "nbformat_minor": 2
}
